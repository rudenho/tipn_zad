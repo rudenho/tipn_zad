{
 "cells": [
  {
   "cell_type": "markdown",
   "metadata": {},
   "source": [
    "# Program do obliczania średniej\n",
    "\n",
    "Oto program, który będzie liczył średnią z moich przedmiotów na studiach!"
   ]
  },
  {
   "cell_type": "code",
   "execution_count": 22,
   "metadata": {},
   "outputs": [],
   "source": [
    "statystyka = 3.5\n",
    "wprowadzenie_kom = 5.0\n",
    "psych = 5\n",
    "ang = 4\n",
    "wf = 5\n",
    "metod = 5\n",
    "fil = 4.5\n",
    "neuro = 4\n",
    "logika = 5\n",
    "przeglad = 5\n",
    "techno = 5\n",
    "# To są moje oceny!"
   ]
  },
  {
   "cell_type": "code",
   "execution_count": 23,
   "metadata": {},
   "outputs": [],
   "source": [
    "suma = statystyka + wprowadzenie_kom + psych + ang + wf + metod + fil + neuro + logika + przeglad + techno\n",
    "srednia = suma / 11"
   ]
  },
  {
   "cell_type": "code",
   "execution_count": 24,
   "metadata": {},
   "outputs": [
    {
     "name": "stdout",
     "output_type": "stream",
     "text": [
      "Moja średnia w pierwszym semestrze studiów to 4.636363636363637\n"
     ]
    }
   ],
   "source": [
    "print (\"Moja średnia w pierwszym semestrze studiów to\", str(srednia))"
   ]
  },
  {
   "cell_type": "code",
   "execution_count": null,
   "metadata": {},
   "outputs": [],
   "source": []
  }
 ],
 "metadata": {
  "kernelspec": {
   "display_name": "Python 3",
   "language": "python",
   "name": "python3"
  },
  "language_info": {
   "codemirror_mode": {
    "name": "ipython",
    "version": 3
   },
   "file_extension": ".py",
   "mimetype": "text/x-python",
   "name": "python",
   "nbconvert_exporter": "python",
   "pygments_lexer": "ipython3",
   "version": "3.7.0"
  }
 },
 "nbformat": 4,
 "nbformat_minor": 2
}
