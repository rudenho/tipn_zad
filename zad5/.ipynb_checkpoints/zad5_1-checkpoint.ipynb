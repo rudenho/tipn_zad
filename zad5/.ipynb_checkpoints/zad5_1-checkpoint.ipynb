{
 "cells": [
  {
   "cell_type": "code",
   "execution_count": 19,
   "metadata": {},
   "outputs": [
    {
     "name": "stdin",
     "output_type": "stream",
     "text": [
      "Podaj liczbę: 9\n"
     ]
    },
    {
     "name": "stdout",
     "output_type": "stream",
     "text": [
      "Silnia z Twojej liczby to: 362880\n"
     ]
    }
   ],
   "source": [
    "liczba = input(\"Podaj liczbę:\")\n",
    "liczba = int(liczba)\n",
    "sil = 1\n",
    "while liczba > 0:\n",
    "    sil = sil*liczba\n",
    "    liczba -=1\n",
    "print (\"Silnia z Twojej liczby to:\", sil)"
   ]
  },
  {
   "cell_type": "code",
   "execution_count": null,
   "metadata": {},
   "outputs": [],
   "source": []
  }
 ],
 "metadata": {
  "kernelspec": {
   "display_name": "Python 3",
   "language": "python",
   "name": "python3"
  },
  "language_info": {
   "codemirror_mode": {
    "name": "ipython",
    "version": 3
   },
   "file_extension": ".py",
   "mimetype": "text/x-python",
   "name": "python",
   "nbconvert_exporter": "python",
   "pygments_lexer": "ipython3",
   "version": "3.7.0"
  }
 },
 "nbformat": 4,
 "nbformat_minor": 2
}
