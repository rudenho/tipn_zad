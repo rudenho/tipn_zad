{
 "cells": [
  {
   "cell_type": "code",
   "execution_count": 11,
   "metadata": {},
   "outputs": [
    {
     "name": "stdout",
     "output_type": "stream",
     "text": [
      "Czy zgadzasz się ze stwierdzeniem, że Mulan jest lepsza od Pocahontas?\n"
     ]
    },
    {
     "name": "stdin",
     "output_type": "stream",
     "text": [
      "1 oznacza zupełnie się nie zgadzam, a 5 oznacza całkowicie się zgadzam: 5\n"
     ]
    },
    {
     "name": "stdout",
     "output_type": "stream",
     "text": [
      "Czy zgadzasz się ze stwierdzeniem, że druga część Strażników Galaktyki jest lepsza od pierwszej?\n"
     ]
    },
    {
     "name": "stdin",
     "output_type": "stream",
     "text": [
      "1 oznacza zupełnie się nie zgadzam, a 5 oznacza całkowicie się zgadzam: 5\n"
     ]
    },
    {
     "name": "stdout",
     "output_type": "stream",
     "text": [
      "Czy zgadzasz się ze stwierdzeniem, że pierwsza część Ojca Chrzestnego jest lepsza od drugiej?\n"
     ]
    },
    {
     "name": "stdin",
     "output_type": "stream",
     "text": [
      "1 oznacza zupełnie się nie zgadzam, a 5 oznacza całkowicie się zgadzam: 5\n"
     ]
    },
    {
     "name": "stdout",
     "output_type": "stream",
     "text": [
      "Czy zgadzasz się ze stwierdzeniem, że Tarantino jest lepszym reżyserem od Kubricka?\n"
     ]
    },
    {
     "name": "stdin",
     "output_type": "stream",
     "text": [
      "1 oznacza zupełnie się nie zgadzam, a 5 oznacza całkowicie się zgadzam: 5\n"
     ]
    },
    {
     "name": "stdout",
     "output_type": "stream",
     "text": [
      "Czy zgadzasz się ze stwierdzeniem, że części 7, 8 i 9 Gwiezdnch Wojen nie są kanoniczne?\n"
     ]
    },
    {
     "name": "stdin",
     "output_type": "stream",
     "text": [
      "1 oznacza zupełnie się nie zgadzam, a 5 oznacza całkowicie się zgadzam: 5\n"
     ]
    }
   ],
   "source": [
    "def test(os):\n",
    "\n",
    "    lista = []\n",
    "    a = \"Czy zgadzasz się ze stwierdzeniem, że Mulan jest lepsza od Pocahontas?\"\n",
    "    b = \"Czy zgadzasz się ze stwierdzeniem, że druga część Strażników Galaktyki jest lepsza od pierwszej?\"\n",
    "    c = \"Czy zgadzasz się ze stwierdzeniem, że pierwsza część Ojca Chrzestnego jest lepsza od drugiej?\"\n",
    "    d = \"Czy zgadzasz się ze stwierdzeniem, że Tarantino jest lepszym reżyserem od Kubricka?\"\n",
    "    e = \"Czy zgadzasz się ze stwierdzeniem, że części 7, 8 i 9 Gwiezdnch Wojen nie są kanoniczne?\"\n",
    "    lista_pytan = [a, b, c, d, e]\n",
    "    def zadaj_pytanie(a):\n",
    "        print(a)\n",
    "        ax = input(\"1 oznacza zupełnie się nie zgadzam, a 5 oznacza całkowicie się zgadzam:\")\n",
    "        ax = int(ax)\n",
    "        if ax>5 or ax<1:\n",
    "            print(\"Wpisałaś/eś złą liczbę! Zrestartuj i zacznij od początku!\")\n",
    "        else:\n",
    "            lista.append(ax)\n",
    "\n",
    "test\n",
    "zadaj_pytanie(a)\n",
    "zadaj_pytanie(b)\n",
    "zadaj_pytanie(c)\n",
    "zadaj_pytanie(d)\n",
    "zadaj_pytanie(e)\n",
    "wynik = sum(lista)\n",
    "wynik = int(wynik)\n",
    "if wynik > 5 and wynik < 10:\n",
    "    print(\"Twój wynik to\", wynik, \".\", \" Twój gust filmowy jest tragiczny! Przemyśl swoje decyzje życiowe i spróbuj jeszcze raz!\")\n",
    "elif wynik = 5:\n",
    "    print(\"Twój wynik to\", wynik, \".\", \" Mój Boże. Wyjdź. Po prostu wyjdź.\")\n",
    "elif wynik >= 10 and wynik < 15:\n",
    "    print(\"Twój wynik to\", wynik, \".\", \" Twój gust filmowy jest zły, ale mogło być gorzej. Zobacz sobie Pulp Fiction, może się czegoś nauczysz.\")\n",
    "elif wynik >= 15 and wynik < 20:\n",
    "    print(\"Twój wynik to\", wynik, \".\", \" Twój gust filmowy jest nawet spoko!\")\n",
    "elif wynik >=20 and wynik < 25:\n",
    "    print(\"Twój wynik to\", wynik, \".\", \" Twój gust filmowy jest świetny! Umiesz docenić dobre kino!\")\n",
    "elif wynik = 25:\n",
    "    print(\"Twój wynik to\", wynik, \".\", \" Kocham Cię i Twój gust. Chcesz iść do kina? Ja płacę!\")\n"
   ]
  },
  {
   "cell_type": "code",
   "execution_count": 18,
   "metadata": {},
   "outputs": [
    {
     "data": {
      "text/plain": [
       "5"
      ]
     },
     "execution_count": 18,
     "metadata": {},
     "output_type": "execute_result"
    }
   ],
   "source": []
  },
  {
   "cell_type": "code",
   "execution_count": 9,
   "metadata": {},
   "outputs": [
    {
     "data": {
      "text/plain": [
       "[5, 5, 5, 5, 5]"
      ]
     },
     "execution_count": 9,
     "metadata": {},
     "output_type": "execute_result"
    }
   ],
   "source": []
  },
  {
   "cell_type": "code",
   "execution_count": null,
   "metadata": {},
   "outputs": [],
   "source": []
  }
 ],
 "metadata": {
  "kernelspec": {
   "display_name": "Python 3",
   "language": "python",
   "name": "python3"
  },
  "language_info": {
   "codemirror_mode": {
    "name": "ipython",
    "version": 3
   },
   "file_extension": ".py",
   "mimetype": "text/x-python",
   "name": "python",
   "nbconvert_exporter": "python",
   "pygments_lexer": "ipython3",
   "version": "3.7.0"
  }
 },
 "nbformat": 4,
 "nbformat_minor": 2
}
