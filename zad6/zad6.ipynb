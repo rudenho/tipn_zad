{
 "cells": [
  {
   "cell_type": "code",
   "execution_count": 24,
   "metadata": {},
   "outputs": [
    {
     "name": "stdout",
     "output_type": "stream",
     "text": [
      "Czy zgadzasz się ze stwierdzeniem, że Mulan jest lepsza od Pocahontas?\n"
     ]
    },
    {
     "name": "stdin",
     "output_type": "stream",
     "text": [
      "1 oznacza zupełnie się nie zgadzam, a 5 oznacza całkowicie się zgadzam: 5\n"
     ]
    },
    {
     "ename": "NameError",
     "evalue": "name 'lista' is not defined",
     "output_type": "error",
     "traceback": [
      "\u001b[1;31m---------------------------------------------------------------------------\u001b[0m",
      "\u001b[1;31mNameError\u001b[0m                                 Traceback (most recent call last)",
      "\u001b[1;32m<ipython-input-24-f922f9dffe04>\u001b[0m in \u001b[0;36m<module>\u001b[1;34m()\u001b[0m\n\u001b[0;32m     19\u001b[0m \u001b[1;33m\u001b[0m\u001b[0m\n\u001b[0;32m     20\u001b[0m \u001b[0mtest\u001b[0m\u001b[1;33m\u001b[0m\u001b[0m\n\u001b[1;32m---> 21\u001b[1;33m \u001b[0mzadaj_pytanie\u001b[0m\u001b[1;33m(\u001b[0m\u001b[0ma\u001b[0m\u001b[1;33m)\u001b[0m\u001b[1;33m\u001b[0m\u001b[0m\n\u001b[0m\u001b[0;32m     22\u001b[0m \u001b[0mzadaj_pytanie\u001b[0m\u001b[1;33m(\u001b[0m\u001b[0mb\u001b[0m\u001b[1;33m)\u001b[0m\u001b[1;33m\u001b[0m\u001b[0m\n\u001b[0;32m     23\u001b[0m \u001b[0mzadaj_pytanie\u001b[0m\u001b[1;33m(\u001b[0m\u001b[0mc\u001b[0m\u001b[1;33m)\u001b[0m\u001b[1;33m\u001b[0m\u001b[0m\n",
      "\u001b[1;32m<ipython-input-17-23d3f83cc1e6>\u001b[0m in \u001b[0;36mzadaj_pytanie\u001b[1;34m(a)\u001b[0m\n\u001b[0;32m     17\u001b[0m         \u001b[0mprint\u001b[0m\u001b[1;33m(\u001b[0m\u001b[1;34m\"Wpisałaś/eś złą liczbę! Zrestartuj i zacznij od początku!\"\u001b[0m\u001b[1;33m)\u001b[0m\u001b[1;33m\u001b[0m\u001b[0m\n\u001b[0;32m     18\u001b[0m     \u001b[1;32melse\u001b[0m\u001b[1;33m:\u001b[0m\u001b[1;33m\u001b[0m\u001b[0m\n\u001b[1;32m---> 19\u001b[1;33m         \u001b[0mlista\u001b[0m\u001b[1;33m.\u001b[0m\u001b[0mappend\u001b[0m\u001b[1;33m(\u001b[0m\u001b[0max\u001b[0m\u001b[1;33m)\u001b[0m\u001b[1;33m\u001b[0m\u001b[0m\n\u001b[0m\u001b[0;32m     20\u001b[0m \u001b[1;33m\u001b[0m\u001b[0m\n\u001b[0;32m     21\u001b[0m \u001b[0mtest\u001b[0m\u001b[1;33m\u001b[0m\u001b[0m\n",
      "\u001b[1;31mNameError\u001b[0m: name 'lista' is not defined"
     ]
    }
   ],
   "source": [
    "a = \"Czy zgadzasz się ze stwierdzeniem, że Mulan jest lepsza od Pocahontas?\"\n",
    "b = \"Czy zgadzasz się ze stwierdzeniem, że druga część Strażników Galaktyki jest lepsza od pierwszej?\"\n",
    "c = \"Czy zgadzasz się ze stwierdzeniem, że pierwsza część Ojca Chrzestnego jest lepsza od drugiej?\"\n",
    "d = \"Czy zgadzasz się ze stwierdzeniem, że Tarantino jest lepszym reżyserem od Kubricka?\"\n",
    "e = \"Czy zgadzasz się ze stwierdzeniem, że części 7, 8 i 9 Gwiezdnch Wojen nie są kanoniczne?\"\n",
    "\n",
    "def test(os):\n",
    "\n",
    "    lista = []\n",
    "    lista_pytan = [a, b, c, d, e]\n",
    "    def zadaj_pytanie(a):\n",
    "        print(a)\n",
    "        ax = input(\"1 oznacza zupełnie się nie zgadzam, a 5 oznacza całkowicie się zgadzam:\")\n",
    "        ax = int(ax)\n",
    "        if ax>5 or ax<1:\n",
    "            print(\"Wpisałaś/eś złą liczbę! Zrestartuj i zacznij od początku!\")\n",
    "        else:\n",
    "            lista.append(ax)\n",
    "\n",
    "test\n",
    "zadaj_pytanie(a)\n",
    "zadaj_pytanie(b)\n",
    "zadaj_pytanie(c)\n",
    "zadaj_pytanie(d)\n",
    "zadaj_pytanie(e)\n",
    "wynik = sum(lista)\n",
    "wynik = int(wynik)\n",
    "if wynik > 5 and wynik < 10:\n",
    "    print(\"Twój wynik to\", wynik, \".\", \"Twój gust filmowy jest tragiczny! Przemyśl swoje decyzje życiowe i spróbuj jeszcze raz!\")\n",
    "elif wynik == 5:\n",
    "    print(\"Twój wynik to\", wynik, \".\", \"Mój Boże. Wyjdź. Po prostu wyjdź.\")\n",
    "elif wynik >= 10 and wynik < 15:\n",
    "    print(\"Twój wynik to\", wynik, \".\", \"Twój gust filmowy jest zły, ale mogło być gorzej. Zobacz sobie Pulp Fiction, może się czegoś nauczysz.\")\n",
    "elif wynik >= 15 and wynik < 20:\n",
    "    print(\"Twój wynik to\", wynik, \".\", \"Twój gust filmowy jest nawet spoko!\")\n",
    "elif wynik >=20 and wynik < 25:\n",
    "    print(\"Twój wynik to\", wynik, \".\", \"Twój gust filmowy jest świetny! Umiesz docenić dobre kino!\")\n",
    "elif wynik == 25:\n",
    "    print(\"Twój wynik to\", wynik, \".\", \"Kocham Cię i Twój gust! Chcesz iść do kina? Ja płacę!\")\n",
    "    \n",
    "while wynik > 0:\n",
    "    lista.pop(0)\n",
    "    wynik = 0"
   ]
  },
  {
   "cell_type": "code",
   "execution_count": 21,
   "metadata": {},
   "outputs": [
    {
     "name": "stdout",
     "output_type": "stream",
     "text": [
      "Czy zgadzasz się ze stwierdzeniem, że Mulan jest lepsza od Pocahontas?\n"
     ]
    },
    {
     "name": "stdin",
     "output_type": "stream",
     "text": [
      "1 oznacza zupełnie się nie zgadzam, a 5 oznacza całkowicie się zgadzam: 5\n"
     ]
    },
    {
     "ename": "NameError",
     "evalue": "name 'lista' is not defined",
     "output_type": "error",
     "traceback": [
      "\u001b[1;31m---------------------------------------------------------------------------\u001b[0m",
      "\u001b[1;31mNameError\u001b[0m                                 Traceback (most recent call last)",
      "\u001b[1;32m<ipython-input-21-8bef420e4215>\u001b[0m in \u001b[0;36m<module>\u001b[1;34m()\u001b[0m\n\u001b[1;32m----> 1\u001b[1;33m \u001b[0mzadaj_pytanie\u001b[0m\u001b[1;33m(\u001b[0m\u001b[0ma\u001b[0m\u001b[1;33m)\u001b[0m\u001b[1;33m\u001b[0m\u001b[0m\n\u001b[0m",
      "\u001b[1;32m<ipython-input-17-23d3f83cc1e6>\u001b[0m in \u001b[0;36mzadaj_pytanie\u001b[1;34m(a)\u001b[0m\n\u001b[0;32m     17\u001b[0m         \u001b[0mprint\u001b[0m\u001b[1;33m(\u001b[0m\u001b[1;34m\"Wpisałaś/eś złą liczbę! Zrestartuj i zacznij od początku!\"\u001b[0m\u001b[1;33m)\u001b[0m\u001b[1;33m\u001b[0m\u001b[0m\n\u001b[0;32m     18\u001b[0m     \u001b[1;32melse\u001b[0m\u001b[1;33m:\u001b[0m\u001b[1;33m\u001b[0m\u001b[0m\n\u001b[1;32m---> 19\u001b[1;33m         \u001b[0mlista\u001b[0m\u001b[1;33m.\u001b[0m\u001b[0mappend\u001b[0m\u001b[1;33m(\u001b[0m\u001b[0max\u001b[0m\u001b[1;33m)\u001b[0m\u001b[1;33m\u001b[0m\u001b[0m\n\u001b[0m\u001b[0;32m     20\u001b[0m \u001b[1;33m\u001b[0m\u001b[0m\n\u001b[0;32m     21\u001b[0m \u001b[0mtest\u001b[0m\u001b[1;33m\u001b[0m\u001b[0m\n",
      "\u001b[1;31mNameError\u001b[0m: name 'lista' is not defined"
     ]
    }
   ],
   "source": [
    "zadaj_pytanie(a)"
   ]
  },
  {
   "cell_type": "code",
   "execution_count": null,
   "metadata": {},
   "outputs": [],
   "source": []
  },
  {
   "cell_type": "code",
   "execution_count": 23,
   "metadata": {},
   "outputs": [
    {
     "ename": "NameError",
     "evalue": "name 'lista' is not defined",
     "output_type": "error",
     "traceback": [
      "\u001b[1;31m---------------------------------------------------------------------------\u001b[0m",
      "\u001b[1;31mNameError\u001b[0m                                 Traceback (most recent call last)",
      "\u001b[1;32m<ipython-input-23-47aabe866026>\u001b[0m in \u001b[0;36m<module>\u001b[1;34m()\u001b[0m\n\u001b[1;32m----> 1\u001b[1;33m \u001b[0mlista\u001b[0m\u001b[1;33m\u001b[0m\u001b[0m\n\u001b[0m",
      "\u001b[1;31mNameError\u001b[0m: name 'lista' is not defined"
     ]
    }
   ],
   "source": [
    "lista"
   ]
  },
  {
   "cell_type": "code",
   "execution_count": null,
   "metadata": {},
   "outputs": [],
   "source": []
  }
 ],
 "metadata": {
  "kernelspec": {
   "display_name": "Python 3",
   "language": "python",
   "name": "python3"
  },
  "language_info": {
   "codemirror_mode": {
    "name": "ipython",
    "version": 3
   },
   "file_extension": ".py",
   "mimetype": "text/x-python",
   "name": "python",
   "nbconvert_exporter": "python",
   "pygments_lexer": "ipython3",
   "version": "3.7.0"
  }
 },
 "nbformat": 4,
 "nbformat_minor": 2
}
