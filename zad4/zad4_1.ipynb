{
 "cells": [
  {
   "cell_type": "code",
   "execution_count": 1,
   "metadata": {},
   "outputs": [
    {
     "name": "stdin",
     "output_type": "stream",
     "text": [
      "Napisz zdanie: I'm Garrus Vakarian and this is my...!\n"
     ]
    },
    {
     "name": "stdout",
     "output_type": "stream",
     "text": [
      "Nie krzycz! Słyszę się całkiem dobrze!\n"
     ]
    }
   ],
   "source": [
    "zd = input (\"Napisz zdanie:\")\n",
    "if zd[-1]== \".\":\n",
    "    print(\"Rozumiem. Pewnie masz rację.\")\n",
    "if zd[-1]== \"?\":\n",
    "    print(\"Nie wiem, nie znam się.\")\n",
    "if zd[-1]== \"!\":\n",
    "    print(\"Nie krzycz! Słyszę się całkiem dobrze!\")"
   ]
  },
  {
   "cell_type": "code",
   "execution_count": null,
   "metadata": {},
   "outputs": [],
   "source": []
  }
 ],
 "metadata": {
  "kernelspec": {
   "display_name": "Python 3",
   "language": "python",
   "name": "python3"
  },
  "language_info": {
   "codemirror_mode": {
    "name": "ipython",
    "version": 3
   },
   "file_extension": ".py",
   "mimetype": "text/x-python",
   "name": "python",
   "nbconvert_exporter": "python",
   "pygments_lexer": "ipython3",
   "version": "3.7.0"
  }
 },
 "nbformat": 4,
 "nbformat_minor": 2
}
